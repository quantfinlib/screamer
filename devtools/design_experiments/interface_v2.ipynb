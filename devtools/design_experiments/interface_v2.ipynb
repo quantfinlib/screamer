{
 "cells": [
  {
   "cell_type": "code",
   "execution_count": 1,
   "metadata": {},
   "outputs": [],
   "source": [
    "import numpy as np\n",
    "import asyncio"
   ]
  },
  {
   "cell_type": "markdown",
   "metadata": {},
   "source": [
    "# Create a fake price feed"
   ]
  },
  {
   "cell_type": "code",
   "execution_count": 3,
   "metadata": {},
   "outputs": [
    {
     "name": "stdout",
     "output_type": "stream",
     "text": [
      "100.47\n",
      "101.475\n",
      "101.86\n",
      "101.47749999999999\n",
      "101.44\n",
      "101.51166666666666\n",
      "101.61285714285714\n",
      "101.63\n",
      "101.81777777777776\n",
      "101.93799999999999\n",
      "102.207\n",
      "102.253\n",
      "102.276\n",
      "102.516\n",
      "102.58000000000001\n",
      "102.64800000000002\n",
      "102.64100000000003\n",
      "102.50300000000001\n",
      "102.26600000000002\n",
      "101.97900000000001\n",
      "101.54900000000002\n",
      "101.15500000000002\n",
      "100.80200000000002\n",
      "100.23100000000002\n",
      "99.77600000000002\n",
      "99.20400000000002\n",
      "98.74400000000001\n",
      "98.54500000000002\n",
      "98.43000000000002\n",
      "98.49800000000002\n"
     ]
    }
   ],
   "source": [
    "async def price_feed(num_trade=10):\n",
    "    price = 100\n",
    "    for _ in range(num_trade):\n",
    "        price *= np.exp(np.random.normal(scale=0.01))\n",
    "        price = float(np.round(price, 2))\n",
    "        yield price\n",
    "        dt = np.random.uniform(0, 0.2)\n",
    "        await asyncio.sleep(dt)\n",
    "\n",
    "\n",
    "from screamer import RollingMean\n",
    "\n",
    "obj = RollingMean(10, start_policy='expanding')\n",
    "async for x in obj(price_feed(30)):\n",
    "    print(x)\n"
   ]
  },
  {
   "cell_type": "code",
   "execution_count": 6,
   "metadata": {},
   "outputs": [
    {
     "ename": "AttributeError",
     "evalue": "'screamer.screamer_bindings.RollingMean' object has no attribute '__anext__'",
     "output_type": "error",
     "traceback": [
      "\u001b[0;31m---------------------------------------------------------------------------\u001b[0m",
      "\u001b[0;31mAttributeError\u001b[0m                            Traceback (most recent call last)",
      "Cell \u001b[0;32mIn[6], line 2\u001b[0m\n\u001b[1;32m      1\u001b[0m \u001b[38;5;28;01masync\u001b[39;00m \u001b[38;5;28;01mfor\u001b[39;00m price \u001b[38;5;129;01min\u001b[39;00m price_feed(\u001b[38;5;241m30\u001b[39m):\n\u001b[0;32m----> 2\u001b[0m     processed \u001b[38;5;241m=\u001b[39m \u001b[38;5;28;01mawait\u001b[39;00m \u001b[43mobj\u001b[49m\u001b[38;5;241;43m.\u001b[39;49m\u001b[38;5;21;43m__anext__\u001b[39;49m(price)  \u001b[38;5;66;03m# Process the current price\u001b[39;00m\n\u001b[1;32m      3\u001b[0m     \u001b[38;5;28mprint\u001b[39m(\u001b[38;5;124mf\u001b[39m\u001b[38;5;124m\"\u001b[39m\u001b[38;5;124mPrice: \u001b[39m\u001b[38;5;132;01m{\u001b[39;00mprice\u001b[38;5;132;01m}\u001b[39;00m\u001b[38;5;124m, Processed: \u001b[39m\u001b[38;5;132;01m{\u001b[39;00mprocessed\u001b[38;5;132;01m}\u001b[39;00m\u001b[38;5;124m\"\u001b[39m)\n",
      "\u001b[0;31mAttributeError\u001b[0m: 'screamer.screamer_bindings.RollingMean' object has no attribute '__anext__'"
     ]
    }
   ],
   "source": [
    "async for price in price_feed(30):\n",
    "    processed = await obj.__anext__(price)  # Process the current price\n",
    "    print(f\"Price: {price}, Processed: {processed}\")\n"
   ]
  },
  {
   "cell_type": "code",
   "execution_count": null,
   "metadata": {},
   "outputs": [],
   "source": []
  }
 ],
 "metadata": {
  "kernelspec": {
   "display_name": "screamer-oageH0Kb-py3.11",
   "language": "python",
   "name": "python3"
  },
  "language_info": {
   "codemirror_mode": {
    "name": "ipython",
    "version": 3
   },
   "file_extension": ".py",
   "mimetype": "text/x-python",
   "name": "python",
   "nbconvert_exporter": "python",
   "pygments_lexer": "ipython3",
   "version": "3.11.8"
  }
 },
 "nbformat": 4,
 "nbformat_minor": 2
}
