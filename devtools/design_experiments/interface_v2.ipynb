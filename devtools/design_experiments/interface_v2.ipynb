{
 "cells": [
  {
   "cell_type": "code",
   "execution_count": 32,
   "metadata": {},
   "outputs": [],
   "source": [
    "import numpy as np\n",
    "import asyncio"
   ]
  },
  {
   "cell_type": "markdown",
   "metadata": {},
   "source": [
    "# Create a fake trade feed"
   ]
  },
  {
   "cell_type": "code",
   "execution_count": 75,
   "metadata": {},
   "outputs": [
    {
     "name": "stdout",
     "output_type": "stream",
     "text": [
      "-112 100.51\n",
      "2 102.17\n",
      "23 101.31\n",
      "24 101.39\n",
      "-150 100.22\n",
      "81 101.4\n",
      "-197 102.11\n",
      "135 101.51\n",
      "-165 100.38\n",
      "50 99.71\n"
     ]
    }
   ],
   "source": [
    "async def trade_feed(num_trade=10):\n",
    "    price = 100\n",
    "    for _ in range(num_trade):\n",
    "        price *= np.exp(np.random.normal(scale=0.01))\n",
    "        price = float(np.round(price, 2))\n",
    "        volume = int(np.random.normal(scale=100))\n",
    "        yield volume, price\n",
    "        dt = np.random.uniform(0, 0.2)\n",
    "        await asyncio.sleep(dt)\n",
    "\n",
    "async for v, p in trade_feed():\n",
    "    print(v, p)\n",
    "    "
   ]
  },
  {
   "cell_type": "markdown",
   "metadata": {},
   "source": [
    "### A simple Cashflow class: compute price * volume"
   ]
  },
  {
   "cell_type": "code",
   "execution_count": 82,
   "metadata": {},
   "outputs": [],
   "source": [
    "from collections.abc import Iterable\n",
    "import inspect\n",
    "\n",
    "class Cashflow:\n",
    "\n",
    "    def __init__(self):\n",
    "        pass\n",
    "\n",
    "    # main implementation\n",
    "    def process_scalar(self, volume, price):\n",
    "        return abs(volume * price)\n",
    "\n",
    "    # generic code: handeling generator of tuples\n",
    "    def process_generator(self, values_gen):\n",
    "        for values in values_gen:\n",
    "            yield self.process_scalar(*values)\n",
    "\n",
    "    # generic code: handeling numpy arrays\n",
    "    def process_numpy_arrays(self, volumes, prices):\n",
    "        ans = np.zeros_like(prices)\n",
    "        for i in range(len(prices)):\n",
    "            ans[i] = self.process_scalar(volumes[i], prices[i])\n",
    "        return ans\n",
    "\n",
    "    # generic code: handeling an asynchronous generator of tuples\n",
    "    async def process_async_generator(self, async_values_gen):\n",
    "        async for values in async_values_gen:\n",
    "            yield self.process_scalar(*values)  \n",
    "        \n",
    "    # generic code: dispatcher\n",
    "    def __call__(self, arg0, arg1=None):\n",
    "        if isinstance(arg0, np.ndarray):\n",
    "            return self.process_numpy_arrays(arg0, arg1)\n",
    "        if isinstance(arg0, Iterable):\n",
    "            return self.process_generator(arg0)\n",
    "        if inspect.isasyncgen(arg0):\n",
    "            return self.process_async_generator(arg0)\n",
    "        return self.process_scalar(arg0, arg1)\n"
   ]
  },
  {
   "cell_type": "markdown",
   "metadata": {},
   "source": [
    "### A Scalar"
   ]
  },
  {
   "cell_type": "code",
   "execution_count": 83,
   "metadata": {},
   "outputs": [
    {
     "data": {
      "text/plain": [
       "12"
      ]
     },
     "execution_count": 83,
     "metadata": {},
     "output_type": "execute_result"
    }
   ],
   "source": [
    "cf = Cashflow()\n",
    "\n",
    "cf(3,4)"
   ]
  },
  {
   "cell_type": "markdown",
   "metadata": {},
   "source": [
    "### Numpy arrays"
   ]
  },
  {
   "cell_type": "code",
   "execution_count": 84,
   "metadata": {},
   "outputs": [
    {
     "data": {
      "text/plain": [
       "array([300, 101, 204, 101])"
      ]
     },
     "execution_count": 84,
     "metadata": {},
     "output_type": "execute_result"
    }
   ],
   "source": [
    "prices = np.array([100,101,102,101])\n",
    "volumes = np.array([3,-1,-2,1])\n",
    "\n",
    "cf = Cashflow()\n",
    "cf(volumes, prices)\n"
   ]
  },
  {
   "cell_type": "markdown",
   "metadata": {},
   "source": [
    "### Generator"
   ]
  },
  {
   "cell_type": "code",
   "execution_count": 85,
   "metadata": {},
   "outputs": [
    {
     "data": {
      "text/plain": [
       "[600, 101, 204, 101]"
      ]
     },
     "execution_count": 85,
     "metadata": {},
     "output_type": "execute_result"
    }
   ],
   "source": [
    "gen = iter([(2,300), (-1, 101), (-2, 102), (1, 101)])\n",
    "\n",
    "\n",
    "list(cf(gen))"
   ]
  },
  {
   "cell_type": "markdown",
   "metadata": {},
   "source": [
    "### Async generator"
   ]
  },
  {
   "cell_type": "code",
   "execution_count": 86,
   "metadata": {},
   "outputs": [
    {
     "name": "stdout",
     "output_type": "stream",
     "text": [
      "8947.17\n",
      "7129.82\n",
      "4377.4\n",
      "1622.72\n",
      "20653.75\n",
      "5799.179999999999\n",
      "12781.44\n",
      "11806.47\n",
      "2379.84\n",
      "5520.9\n"
     ]
    }
   ],
   "source": [
    "cf = Cashflow()\n",
    "\n",
    "async for c in cf(trade_feed()):\n",
    "    print(c)\n"
   ]
  }
 ],
 "metadata": {
  "kernelspec": {
   "display_name": "screamer-oageH0Kb-py3.11",
   "language": "python",
   "name": "python3"
  },
  "language_info": {
   "codemirror_mode": {
    "name": "ipython",
    "version": 3
   },
   "file_extension": ".py",
   "mimetype": "text/x-python",
   "name": "python",
   "nbconvert_exporter": "python",
   "pygments_lexer": "ipython3",
   "version": "3.11.8"
  }
 },
 "nbformat": 4,
 "nbformat_minor": 2
}
