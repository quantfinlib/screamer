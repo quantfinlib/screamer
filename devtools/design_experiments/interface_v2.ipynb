{
 "cells": [
  {
   "cell_type": "code",
   "execution_count": 2,
   "metadata": {},
   "outputs": [],
   "source": [
    "import numpy as np\n",
    "import asyncio"
   ]
  },
  {
   "cell_type": "markdown",
   "metadata": {},
   "source": [
    "# Create a fake trade feed"
   ]
  },
  {
   "cell_type": "code",
   "execution_count": 3,
   "metadata": {},
   "outputs": [
    {
     "name": "stdout",
     "output_type": "stream",
     "text": [
      "20 99.96\n",
      "107 99.41\n",
      "-16 99.58\n",
      "80 101.65\n",
      "-20 102.21\n",
      "149 101.21\n",
      "-39 100.36\n",
      "-233 99.85\n",
      "52 98.6\n",
      "152 97.48\n"
     ]
    }
   ],
   "source": [
    "async def trade_feed(num_trade=10):\n",
    "    price = 100\n",
    "    for _ in range(num_trade):\n",
    "        price *= np.exp(np.random.normal(scale=0.01))\n",
    "        price = float(np.round(price, 2))\n",
    "        volume = int(np.random.normal(scale=100))\n",
    "        yield volume, price\n",
    "        dt = np.random.uniform(0, 0.2)\n",
    "        await asyncio.sleep(dt)\n",
    "\n",
    "async for v, p in trade_feed():\n",
    "    print(v, p)\n",
    "    "
   ]
  },
  {
   "cell_type": "code",
   "execution_count": 5,
   "metadata": {},
   "outputs": [
    {
     "name": "stdout",
     "output_type": "stream",
     "text": [
      "100.56\n",
      "101.51\n",
      "100.62\n",
      "100.99\n",
      "100.52\n",
      "98.6\n",
      "100.0\n",
      "101.15\n",
      "102.37\n",
      "102.62\n",
      "we have an async_generator\n"
     ]
    },
    {
     "ename": "ValueError",
     "evalue": "Unsupported input type for call: [<class 'async_generator'>]",
     "output_type": "error",
     "traceback": [
      "\u001b[0;31m---------------------------------------------------------------------------\u001b[0m",
      "\u001b[0;31mValueError\u001b[0m                                Traceback (most recent call last)",
      "Cell \u001b[0;32mIn[5], line 16\u001b[0m\n\u001b[1;32m     13\u001b[0m \u001b[38;5;28;01mfrom\u001b[39;00m \u001b[38;5;21;01mscreamer\u001b[39;00m \u001b[38;5;28;01mimport\u001b[39;00m RollingMean\n\u001b[1;32m     15\u001b[0m obj \u001b[38;5;241m=\u001b[39m RollingMean(\u001b[38;5;241m10\u001b[39m)\n\u001b[0;32m---> 16\u001b[0m \u001b[38;5;28;01mfor\u001b[39;00m x \u001b[38;5;129;01min\u001b[39;00m \u001b[43mobj\u001b[49m\u001b[43m(\u001b[49m\u001b[43mprice_feed\u001b[49m\u001b[43m(\u001b[49m\u001b[38;5;241;43m30\u001b[39;49m\u001b[43m)\u001b[49m\u001b[43m)\u001b[49m:\n\u001b[1;32m     17\u001b[0m     \u001b[38;5;28mprint\u001b[39m(x)\n",
      "\u001b[0;31mValueError\u001b[0m: Unsupported input type for call: [<class 'async_generator'>]"
     ]
    }
   ],
   "source": [
    "async def price_feed(num_trade=10):\n",
    "    price = 100\n",
    "    for _ in range(num_trade):\n",
    "        price *= np.exp(np.random.normal(scale=0.01))\n",
    "        price = float(np.round(price, 2))\n",
    "        yield price\n",
    "        dt = np.random.uniform(0, 0.2)\n",
    "        await asyncio.sleep(dt)\n",
    "\n",
    "async for  p in price_feed():\n",
    "    print(p)\n",
    "    \n",
    "from screamer import RollingMean\n",
    "\n",
    "obj = RollingMean(10)\n",
    "for x in obj(price_feed(30)):\n",
    "    print(x)\n"
   ]
  },
  {
   "cell_type": "code",
   "execution_count": null,
   "metadata": {},
   "outputs": [],
   "source": []
  },
  {
   "cell_type": "markdown",
   "metadata": {},
   "source": [
    "### A simple Cashflow class: compute price * volume"
   ]
  },
  {
   "cell_type": "code",
   "execution_count": 15,
   "metadata": {},
   "outputs": [],
   "source": [
    "from collections.abc import Iterable\n",
    "import inspect\n",
    "\n",
    "class Cashflow:\n",
    "\n",
    "    def __init__(self):\n",
    "        pass\n",
    "\n",
    "    # main implementation\n",
    "    def process_scalar(self, volume, price):\n",
    "        return abs(volume * price)\n",
    "\n",
    "    # generic code: handeling generator of tuples\n",
    "    def process_generator(self, values_gen):\n",
    "        for values in values_gen:\n",
    "            # check that values has N elements, all convertable to double\n",
    "            yield self.process_scalar(*values)\n",
    "\n",
    "    # generic code: handeling numpy arrays\n",
    "    def process_numpy_arrays(self, volumes, prices):\n",
    "        ans = np.zeros_like(prices)\n",
    "        for i in range(len(prices)):\n",
    "            ans[i] = self.process_scalar(volumes[i], prices[i])\n",
    "        return ans\n",
    "\n",
    "    # generic code: handeling an asynchronous generator of tuples\n",
    "    async def process_async_generator(self, async_values_gen):\n",
    "        print(type(async_values_gen))\n",
    "        async for values in async_values_gen:\n",
    "            # check that values has N elements, all convertable to double\n",
    "            yield self.process_scalar(*values)  \n",
    "        \n",
    "    # generic code: dispatcher\n",
    "    def __call__(self, arg0, arg1=None):\n",
    "        if isinstance(arg0, np.ndarray):\n",
    "            # check that we have N args, all numpy array, all of the same shape\n",
    "            return self.process_numpy_arrays(arg0, arg1)\n",
    "        if isinstance(arg0, Iterable):\n",
    "            # check that we have 1 arg\n",
    "            return self.process_generator(arg0)\n",
    "        if inspect.isasyncgen(arg0):\n",
    "            # check that we have 1 arg\n",
    "            return self.process_async_generator(arg0)\n",
    "        # check that we have N args, all convertable to double\n",
    "        return self.process_scalar(arg0, arg1)\n"
   ]
  },
  {
   "cell_type": "markdown",
   "metadata": {},
   "source": [
    "### A Scalar"
   ]
  },
  {
   "cell_type": "code",
   "execution_count": 16,
   "metadata": {},
   "outputs": [
    {
     "data": {
      "text/plain": [
       "12"
      ]
     },
     "execution_count": 16,
     "metadata": {},
     "output_type": "execute_result"
    }
   ],
   "source": [
    "cf = Cashflow()\n",
    "\n",
    "cf(3,4)"
   ]
  },
  {
   "cell_type": "markdown",
   "metadata": {},
   "source": [
    "### Numpy arrays"
   ]
  },
  {
   "cell_type": "code",
   "execution_count": 17,
   "metadata": {},
   "outputs": [
    {
     "data": {
      "text/plain": [
       "array([300, 101, 204, 101])"
      ]
     },
     "execution_count": 17,
     "metadata": {},
     "output_type": "execute_result"
    }
   ],
   "source": [
    "prices = np.array([100,101,102,101])\n",
    "volumes = np.array([3,-1,-2,1])\n",
    "\n",
    "cf = Cashflow()\n",
    "cf(volumes, prices)\n"
   ]
  },
  {
   "cell_type": "markdown",
   "metadata": {},
   "source": [
    "### Generator"
   ]
  },
  {
   "cell_type": "code",
   "execution_count": 18,
   "metadata": {},
   "outputs": [
    {
     "data": {
      "text/plain": [
       "[600, 101, 204, 101]"
      ]
     },
     "execution_count": 18,
     "metadata": {},
     "output_type": "execute_result"
    }
   ],
   "source": [
    "gen = iter([(2,300), (-1, 101), (-2, 102), (1, 101)])\n",
    "\n",
    "\n",
    "list(cf(gen))"
   ]
  },
  {
   "cell_type": "markdown",
   "metadata": {},
   "source": [
    "### Async generator"
   ]
  },
  {
   "cell_type": "code",
   "execution_count": 19,
   "metadata": {},
   "outputs": [
    {
     "name": "stdout",
     "output_type": "stream",
     "text": [
      "<class 'async_generator'>\n",
      "4790.4\n",
      "5604.8099999999995\n",
      "7782.29\n",
      "1486.3500000000001\n",
      "20843.57\n",
      "3115.5\n",
      "24330.68\n",
      "5608.96\n",
      "13257.44\n",
      "1665.66\n"
     ]
    }
   ],
   "source": [
    "cf = Cashflow()\n",
    "\n",
    "async for c in cf(trade_feed()):\n",
    "    print(c)\n"
   ]
  },
  {
   "cell_type": "code",
   "execution_count": 23,
   "metadata": {},
   "outputs": [
    {
     "name": "stdout",
     "output_type": "stream",
     "text": [
      "Unsupported input type for call: [<class 'async_generator'>]\n"
     ]
    },
    {
     "ename": "ValueError",
     "evalue": "Unsupported input type for call",
     "output_type": "error",
     "traceback": [
      "\u001b[0;31m---------------------------------------------------------------------------\u001b[0m",
      "\u001b[0;31mValueError\u001b[0m                                Traceback (most recent call last)",
      "Cell \u001b[0;32mIn[23], line 5\u001b[0m\n\u001b[1;32m      1\u001b[0m \u001b[38;5;28;01mfrom\u001b[39;00m \u001b[38;5;21;01mscreamer\u001b[39;00m \u001b[38;5;28;01mimport\u001b[39;00m RollingMean\n\u001b[1;32m      3\u001b[0m obj \u001b[38;5;241m=\u001b[39m RollingMean(\u001b[38;5;241m30\u001b[39m, start_policy\u001b[38;5;241m=\u001b[39m\u001b[38;5;124m'\u001b[39m\u001b[38;5;124mexpanding\u001b[39m\u001b[38;5;124m'\u001b[39m)\n\u001b[0;32m----> 5\u001b[0m \u001b[38;5;28;01masync\u001b[39;00m \u001b[38;5;28;01mfor\u001b[39;00m c \u001b[38;5;129;01min\u001b[39;00m \u001b[43mobj\u001b[49m\u001b[43m(\u001b[49m\u001b[43mtrade_feed\u001b[49m\u001b[43m(\u001b[49m\u001b[43m)\u001b[49m\u001b[43m)\u001b[49m:\n\u001b[1;32m      6\u001b[0m     \u001b[38;5;28mprint\u001b[39m(c)\n",
      "\u001b[0;31mValueError\u001b[0m: Unsupported input type for call"
     ]
    }
   ],
   "source": [
    "from screamer import RollingMean\n",
    "\n",
    "obj = RollingMean(30, start_policy='expanding')\n",
    "\n",
    "async for c in obj(trade_feed()):\n",
    "    print(c)\n"
   ]
  },
  {
   "cell_type": "code",
   "execution_count": 24,
   "metadata": {},
   "outputs": [
    {
     "name": "stdout",
     "output_type": "stream",
     "text": [
      "<class 'async_generator'>\n",
      "['__aiter__', '__anext__', '__class__', '__class_getitem__', '__del__', '__delattr__', '__dir__', '__doc__', '__eq__', '__format__', '__ge__', '__getattribute__', '__getstate__', '__gt__', '__hash__', '__init__', '__init_subclass__', '__le__', '__lt__', '__name__', '__ne__', '__new__', '__qualname__', '__reduce__', '__reduce_ex__', '__repr__', '__setattr__', '__sizeof__', '__str__', '__subclasshook__', 'aclose', 'ag_await', 'ag_code', 'ag_frame', 'ag_running', 'asend', 'athrow']\n"
     ]
    }
   ],
   "source": [
    "tmp = trade_feed()\n",
    "print(type(tmp))\n",
    "print(dir(tmp))"
   ]
  },
  {
   "cell_type": "code",
   "execution_count": null,
   "metadata": {},
   "outputs": [],
   "source": []
  }
 ],
 "metadata": {
  "kernelspec": {
   "display_name": "screamer-oageH0Kb-py3.11",
   "language": "python",
   "name": "python3"
  },
  "language_info": {
   "codemirror_mode": {
    "name": "ipython",
    "version": 3
   },
   "file_extension": ".py",
   "mimetype": "text/x-python",
   "name": "python",
   "nbconvert_exporter": "python",
   "pygments_lexer": "ipython3",
   "version": "3.11.8"
  }
 },
 "nbformat": 4,
 "nbformat_minor": 2
}
